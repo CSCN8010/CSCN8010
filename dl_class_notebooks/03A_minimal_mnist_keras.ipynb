{
 "cells": [
  {
   "attachments": {},
   "cell_type": "markdown",
   "metadata": {},
   "source": [
    "# Multiclass Classification - a Simple Keras Model (MNIST)\n",
    "Adapted from [Chollet notebook 2](https://github.com/fchollet/deep-learning-with-python-notebooks/blob/master/chapter02_mathematical-building-blocks.ipynb).\n",
    "Presented here in accordance with the MIT license.\n",
    "\n",
    "The objectives of this notebooks are:\n",
    "1. Get to know the Keras framework and how it corresponds to the Tensorflow API, specifically:\n",
    "     * `keras.Sequential` - define a sequential model\n",
    "     * `model.compile` - config the model, e.g. with losses and metrics\n",
    "     * `model.fit` - train the model\n",
    "     * `model.predict` - run inference with the model\n",
    "     * `tf.keras.models.save_model`\n",
    "2. `softmax` \n",
    "3. `sparse_categorical_crossentropy`"
   ]
  },
  {
   "cell_type": "code",
   "execution_count": 31,
   "metadata": {},
   "outputs": [],
   "source": [
    "from tensorflow.keras.datasets import mnist\n",
    "from tensorflow import keras\n",
    "from tensorflow.keras import layers\n",
    "import tensorflow as tf"
   ]
  },
  {
   "attachments": {},
   "cell_type": "markdown",
   "metadata": {},
   "source": [
    "## Get the Data"
   ]
  },
  {
   "attachments": {},
   "cell_type": "markdown",
   "metadata": {},
   "source": [
    "* Here we will use [tensorflow.keras.datasets](https://keras.io/api/datasets/) as our data repository. It provides API access to a collection of a few toy datasets (in numpy format) that can be used to train and test simple models.\n",
    "* [MNIST](https://keras.io/api/datasets/mnist/) is a dataset of 60,000 28x28 grayscale images of the 10 digits (0-9), along with a test set of 10,000 images."
   ]
  },
  {
   "cell_type": "code",
   "execution_count": 32,
   "metadata": {},
   "outputs": [],
   "source": [
    "(train_images, train_labels), (test_images, test_labels) = mnist.load_data()"
   ]
  },
  {
   "attachments": {},
   "cell_type": "markdown",
   "metadata": {},
   "source": [
    "## Data Exploration"
   ]
  },
  {
   "cell_type": "code",
   "execution_count": 33,
   "metadata": {},
   "outputs": [
    {
     "name": "stdout",
     "output_type": "stream",
     "text": [
      "Image DType: <class 'numpy.ndarray'>\n",
      "Image Element DType: <class 'numpy.uint8'>\n",
      "Label Element DType: <class 'numpy.uint8'>\n",
      "**Shapes:**\n",
      "Train Data:\n",
      "Images: (60000, 28, 28)\n",
      "Labels: (60000,)\n",
      "Test Data:\n",
      "Images: (10000, 28, 28)\n",
      "Labels: (10000,)\n",
      "Image Data Range:\n",
      "Min: 0\n",
      "Max: 255\n"
     ]
    }
   ],
   "source": [
    "print(f'Image DType: {type(train_images)}')\n",
    "print(f'Image Element DType: {type(train_images[0,0,0])}')\n",
    "print(f'Label Element DType: {type(train_labels[0])}')\n",
    "print('**Shapes:**')\n",
    "print('Train Data:')\n",
    "print(f'Images: {train_images.shape}')\n",
    "print(f'Labels: {train_labels.shape}')\n",
    "print('Test Data:')  # the text images should be a random sample of the overall test set, and hence should have the same type, shape and image-size as the overall train set\n",
    "print(f'Images: {test_images.shape}')\n",
    "print(f'Labels: {test_labels.shape}')\n",
    "print('Image Data Range:')\n",
    "print(f'Min: {train_images.min()}')\n",
    "print(f'Max: {train_images.max()}')"
   ]
  },
  {
   "cell_type": "code",
   "execution_count": 34,
   "metadata": {},
   "outputs": [
    {
     "data": {
      "text/plain": [
<<<<<<< HEAD
       "<matplotlib.image.AxesImage at 0x1878f5eda10>"
=======
       "<matplotlib.image.AxesImage at 0x1ac0a496250>"
>>>>>>> 4e6cf57d9929c2212afc7e5a5f1dc60bda7b518b
      ]
     },
     "execution_count": 34,
     "metadata": {},
     "output_type": "execute_result"
    },
    {
     "data": {
      "image/png": "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",
      "text/plain": [
       "<Figure size 640x480 with 1 Axes>"
      ]
     },
     "metadata": {},
     "output_type": "display_data"
    }
   ],
   "source": [
    "# plot the first image in the training set in grayscale\n",
    "import matplotlib.pyplot as plt\n",
    "plt.imshow(train_images[0], cmap='binary')  # to understand how a matrix of numbers is converted to an image, have a look at: https://matplotlib.org/stable/api/_as_gen/matplotlib.pyplot.imshow.html"
   ]
  },
  {
   "cell_type": "code",
   "execution_count": 35,
   "metadata": {},
   "outputs": [
    {
     "name": "stdout",
     "output_type": "stream",
     "text": [
      "Label: 0\n"
     ]
    }
   ],
   "source": [
    "# print the label of the first image in the training set   \n",
    "print(f'Label: {train_labels[1]}')"
   ]
  },
  {
   "attachments": {},
   "cell_type": "markdown",
   "metadata": {},
   "source": [
    "* To get familiar with the data, print out the first 5 images and labels in the training set and the first 5 images and labels in the test set\n",
    "* Run the `imshow` below without the `cmap='gray'` argument, and see what happens\n",
    "* What additional data explorations would you like to test, and what would be the motivation for each?\n",
    "* What is the distribution of the labels in the training set? What is the distribution of the labels in the test set?\n",
    "* What is the distribution of the pixel values in the training set? What is the distribution of the pixel values in the test set?"
   ]
  },
  {
   "attachments": {},
   "cell_type": "markdown",
   "metadata": {},
   "source": [
    "## Data preprocessing"
   ]
  },
  {
   "cell_type": "code",
   "execution_count": 36,
   "metadata": {},
   "outputs": [],
   "source": [
    "train_images = train_images.reshape((60000, 28 * 28))  # flattening the 28x28 image into dim=1 (784,) vector (and over all images in the training set)\n",
    "test_images = test_images.reshape((10000, 28 * 28))\n",
    "\n",
    "train_images = train_images.astype(\"float32\") / 255  # normalizing the data to the range [0,1] by min-max range, and casting it to float32\n",
    "test_images = test_images.astype(\"float32\") / 255"
   ]
  },
  {
   "cell_type": "code",
   "execution_count": 37,
   "metadata": {},
   "outputs": [
    {
     "name": "stdout",
     "output_type": "stream",
     "text": [
      "0.0\n",
      "1.0\n",
      "(60000, 784)\n",
      "(784,)\n"
     ]
    }
   ],
   "source": [
    "print(train_images.min())\n",
    "print(train_images.max())\n",
    "print(train_images.shape)\n",
    "print(train_images[0].shape)"
   ]
  },
  {
   "attachments": {},
   "cell_type": "markdown",
   "metadata": {},
   "source": [
    "Notice that despite the normalization, the image is still the same (this is a matplotlib feature, to read more see imshow documentation):"
   ]
  },
  {
   "cell_type": "code",
   "execution_count": 38,
   "metadata": {},
   "outputs": [
    {
     "data": {
      "text/plain": [
<<<<<<< HEAD
       "<matplotlib.image.AxesImage at 0x1878f662410>"
=======
       "<matplotlib.image.AxesImage at 0x1ac054fa810>"
>>>>>>> 4e6cf57d9929c2212afc7e5a5f1dc60bda7b518b
      ]
     },
     "execution_count": 38,
     "metadata": {},
     "output_type": "execute_result"
    },
    {
     "data": {
      "image/png": "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",
      "text/plain": [
       "<Figure size 640x480 with 1 Axes>"
      ]
     },
     "metadata": {},
     "output_type": "display_data"
    }
   ],
   "source": [
    "plt.imshow(train_images[0].reshape(28,28), cmap='gray')"
   ]
  },
  {
   "attachments": {},
   "cell_type": "markdown",
   "metadata": {},
   "source": [
    "## Define the model\n",
    "How many neurons does each layer have?"
   ]
  },
  {
   "cell_type": "code",
   "execution_count": 39,
   "metadata": {},
   "outputs": [],
   "source": [
    "model = keras.Sequential([\n",
    "    layers.Dense(512, activation=\"relu\"),\n",
    "    layers.Dense(10, activation=\"softmax\")\n",
    "])"
   ]
  },
  {
   "attachments": {},
   "cell_type": "markdown",
   "metadata": {},
   "source": [
    "## Define the Loss Function, Optimizer and Metrics"
   ]
  },
  {
   "cell_type": "code",
   "execution_count": 41,
   "metadata": {},
   "outputs": [],
   "source": [
    "model.compile(optimizer=\"rmsprop\",  # RMSProp is discussed in the Optimizers section\n",
    "              loss=\"sparse_categorical_crossentropy\",\n",
    "              metrics=[\"accuracy\"])"
   ]
  },
  {
   "attachments": {},
   "cell_type": "markdown",
   "metadata": {},
   "source": [
    "## Training (\"Fitting\") the model"
   ]
  },
  {
   "cell_type": "code",
   "execution_count": 42,
   "metadata": {},
   "outputs": [
    {
     "name": "stdout",
     "output_type": "stream",
     "text": [
      "Epoch 1/5\n",
<<<<<<< HEAD
      "469/469 [==============================] - 3s 6ms/step - loss: 0.2640 - accuracy: 0.9241\n",
      "Epoch 2/5\n",
      "469/469 [==============================] - 3s 6ms/step - loss: 0.1085 - accuracy: 0.9686\n",
      "Epoch 3/5\n",
      "469/469 [==============================] - 3s 5ms/step - loss: 0.0721 - accuracy: 0.9785\n",
      "Epoch 4/5\n",
      "469/469 [==============================] - 3s 5ms/step - loss: 0.0513 - accuracy: 0.9851\n",
      "Epoch 5/5\n",
      "469/469 [==============================] - 3s 6ms/step - loss: 0.0389 - accuracy: 0.9880\n"
=======
      "469/469 [==============================] - 2s 4ms/step - loss: 0.2661 - accuracy: 0.9237\n",
      "Epoch 2/5\n",
      "469/469 [==============================] - 2s 4ms/step - loss: 0.1067 - accuracy: 0.9684\n",
      "Epoch 3/5\n",
      "469/469 [==============================] - 2s 4ms/step - loss: 0.0697 - accuracy: 0.9795\n",
      "Epoch 4/5\n",
      "469/469 [==============================] - 2s 4ms/step - loss: 0.0505 - accuracy: 0.9847\n",
      "Epoch 5/5\n",
      "469/469 [==============================] - 2s 4ms/step - loss: 0.0382 - accuracy: 0.9886\n"
>>>>>>> 4e6cf57d9929c2212afc7e5a5f1dc60bda7b518b
     ]
    },
    {
     "data": {
      "text/plain": [
<<<<<<< HEAD
       "<keras.callbacks.History at 0x1878f5ec950>"
=======
       "<keras.callbacks.History at 0x1ac05716390>"
>>>>>>> 4e6cf57d9929c2212afc7e5a5f1dc60bda7b518b
      ]
     },
     "execution_count": 42,
     "metadata": {},
     "output_type": "execute_result"
    }
   ],
   "source": [
    "model.fit(train_images, train_labels, epochs=5, batch_size=128)  # 128*469 = 60000"
   ]
  },
  {
   "cell_type": "code",
   "execution_count": 43,
   "metadata": {},
   "outputs": [
    {
     "name": "stdout",
     "output_type": "stream",
     "text": [
      "Model: \"sequential_3\"\n",
      "_________________________________________________________________\n",
      " Layer (type)                Output Shape              Param #   \n",
      "=================================================================\n",
      " dense_6 (Dense)             (None, 512)               401920    \n",
      "                                                                 \n",
      " dense_7 (Dense)             (None, 10)                5130      \n",
      "                                                                 \n",
      "=================================================================\n",
      "Total params: 407,050\n",
      "Trainable params: 407,050\n",
      "Non-trainable params: 0\n",
      "_________________________________________________________________\n"
     ]
    }
   ],
   "source": [
    "model.summary()"
   ]
  },
  {
   "attachments": {},
   "cell_type": "markdown",
   "metadata": {},
   "source": [
    "## Inference: Using the Model to Make Predictions"
   ]
  },
  {
   "cell_type": "code",
   "execution_count": 44,
   "metadata": {},
   "outputs": [
    {
     "data": {
      "text/plain": [
<<<<<<< HEAD
       "<matplotlib.image.AxesImage at 0x18790a3e150>"
=======
       "<matplotlib.image.AxesImage at 0x1ac0589a810>"
>>>>>>> 4e6cf57d9929c2212afc7e5a5f1dc60bda7b518b
      ]
     },
     "execution_count": 44,
     "metadata": {},
     "output_type": "execute_result"
    },
    {
     "data": {
      "image/png": "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",
      "text/plain": [
       "<Figure size 640x480 with 1 Axes>"
      ]
     },
     "metadata": {},
     "output_type": "display_data"
    }
   ],
   "source": [
    "plt.imshow(test_images[9].reshape(28,28), cmap='gray')  # the actual image"
   ]
  },
  {
   "cell_type": "code",
   "execution_count": 45,
   "metadata": {},
   "outputs": [
    {
     "name": "stdout",
     "output_type": "stream",
     "text": [
      "(784,)\n",
      "(1, 784)\n"
     ]
    }
   ],
   "source": [
    "# a note on shapes: the model expects a 2D array of shape (batch_size, input_dim), so we need to reshape the test image to (1, 784)\n",
    "# Compare:\n",
    "print(test_images[0].shape)  # this will result in an error if given as input to the model (since it is a 1d array)\n",
    "print(test_images[0:1].shape)  # this is a correct shape (2d)"
   ]
  },
  {
   "cell_type": "code",
   "execution_count": 46,
   "metadata": {},
   "outputs": [
    {
     "name": "stdout",
     "output_type": "stream",
     "text": [
<<<<<<< HEAD
      "1/1 [==============================] - 0s 56ms/step\n"
=======
      "1/1 [==============================] - 0s 58ms/step\n"
>>>>>>> 4e6cf57d9929c2212afc7e5a5f1dc60bda7b518b
     ]
    }
   ],
   "source": [
    "prediction = model.predict(test_images[9:10])  # the notation `[0:1]` is used to get the first element of the array, but in the desired shape of (None, 784). `None` in Tensorflow means any number of elements, and is used to indicate that the shape is dynamic (i.e. it can be any number of instances)  "
   ]
  },
  {
   "cell_type": "code",
   "execution_count": 47,
   "metadata": {},
   "outputs": [
    {
     "data": {
      "text/plain": [
<<<<<<< HEAD
       "array([[2.7940018e-11, 1.9140262e-12, 2.5901083e-11, 2.2145038e-07,\n",
       "        4.6619674e-04, 3.5868888e-09, 4.5968815e-12, 1.9610094e-04,\n",
       "        1.3058386e-05, 9.9932444e-01]], dtype=float32)"
=======
       "array([[1.2286913e-10, 1.9247635e-12, 5.5744892e-10, 1.0070650e-06,\n",
       "        3.8741543e-03, 1.1608536e-08, 9.0234088e-12, 3.4466824e-03,\n",
       "        8.0426937e-05, 9.9259770e-01]], dtype=float32)"
>>>>>>> 4e6cf57d9929c2212afc7e5a5f1dc60bda7b518b
      ]
     },
     "execution_count": 47,
     "metadata": {},
     "output_type": "execute_result"
    }
   ],
   "source": [
    "prediction  # 10 classes, each with a probability"
   ]
  },
  {
   "cell_type": "code",
   "execution_count": 48,
   "metadata": {},
   "outputs": [
    {
     "data": {
      "text/plain": [
       "9"
      ]
     },
     "execution_count": 48,
     "metadata": {},
     "output_type": "execute_result"
    }
   ],
   "source": [
    "prediction.argmax()  # the class with the highest probability"
   ]
  },
  {
   "cell_type": "code",
   "execution_count": 49,
   "metadata": {},
   "outputs": [
    {
     "data": {
      "text/plain": [
<<<<<<< HEAD
       "0.99932444"
=======
       "0.9925977"
>>>>>>> 4e6cf57d9929c2212afc7e5a5f1dc60bda7b518b
      ]
     },
     "execution_count": 49,
     "metadata": {},
     "output_type": "execute_result"
    }
   ],
   "source": [
    "prediction[0, 9]  # the probability of the 9th class (of the zeroth data instance)"
   ]
  },
  {
   "cell_type": "code",
   "execution_count": 50,
   "metadata": {},
   "outputs": [
    {
     "data": {
      "text/plain": [
       "9"
      ]
     },
     "execution_count": 50,
     "metadata": {},
     "output_type": "execute_result"
    }
   ],
   "source": [
    "test_labels[9]  # the actual label\n"
   ]
  },
  {
   "attachments": {},
   "cell_type": "markdown",
   "metadata": {},
   "source": [
    "## Evaluating the Model with the Test Data"
   ]
  },
  {
   "cell_type": "code",
   "execution_count": 51,
   "metadata": {},
   "outputs": [
    {
     "name": "stdout",
     "output_type": "stream",
     "text": [
<<<<<<< HEAD
      "313/313 [==============================] - 1s 2ms/step - loss: 0.0652 - accuracy: 0.9798\n",
      "test_acc: 0.9797999858856201\n"
=======
      "313/313 [==============================] - 1s 1ms/step - loss: 0.0588 - accuracy: 0.9822\n",
      "test_acc: 0.982200026512146\n"
>>>>>>> 4e6cf57d9929c2212afc7e5a5f1dc60bda7b518b
     ]
    }
   ],
   "source": [
    "test_loss, test_acc = model.evaluate(test_images, test_labels)\n",
    "print(f\"test_acc: {test_acc}\")"
   ]
  },
  {
   "cell_type": "markdown",
   "metadata": {},
   "source": [
    "# Printing out the Model Summary"
   ]
  },
  {
   "cell_type": "code",
   "execution_count": 20,
   "metadata": {},
   "outputs": [
    {
     "name": "stdout",
     "output_type": "stream",
     "text": [
      "Model: \"sequential\"\n",
      "_________________________________________________________________\n",
      " Layer (type)                Output Shape              Param #   \n",
      "=================================================================\n",
      " dense (Dense)               (None, 512)               401920    \n",
      "                                                                 \n",
      " dense_1 (Dense)             (None, 10)                5130      \n",
      "                                                                 \n",
      "=================================================================\n",
      "Total params: 407,050\n",
      "Trainable params: 407,050\n",
      "Non-trainable params: 0\n",
      "_________________________________________________________________\n"
     ]
    }
   ],
   "source": [
    "model.summary()"
   ]
  },
  {
   "cell_type": "markdown",
   "metadata": {},
   "source": [
    "# Plotting the Training and Validation Loss"
   ]
  },
  {
   "cell_type": "code",
   "execution_count": 21,
   "metadata": {},
   "outputs": [],
   "source": [
    "model = keras.Sequential([\n",
    "    layers.Dense(512, activation=\"relu\"),\n",
    "    layers.Dense(10, activation=\"softmax\")\n",
    "])\n",
    "\n",
    "model.compile(optimizer=\"rmsprop\",\n",
    "                loss=\"sparse_categorical_crossentropy\",\n",
    "                metrics=[\"accuracy\"])"
   ]
  },
  {
   "cell_type": "code",
   "execution_count": 22,
   "metadata": {},
   "outputs": [],
   "source": [
    "# first we need to define a validation set\n",
    "x_val = train_images[:10000]\n",
    "partial_x_train = train_images[10000:]\n",
    "y_val = train_labels[:10000]\n",
    "partial_y_train = train_labels[10000:]"
   ]
  },
  {
   "cell_type": "code",
   "execution_count": 23,
   "metadata": {},
   "outputs": [
    {
     "name": "stdout",
     "output_type": "stream",
     "text": [
      "Epoch 1/30\n"
     ]
    },
    {
     "name": "stdout",
     "output_type": "stream",
     "text": [
      "391/391 [==============================] - 2s 5ms/step - loss: 0.2906 - accuracy: 0.9158 - val_loss: 0.1570 - val_accuracy: 0.9541\n",
      "Epoch 2/30\n",
      "391/391 [==============================] - 2s 4ms/step - loss: 0.1200 - accuracy: 0.9650 - val_loss: 0.1124 - val_accuracy: 0.9671\n",
      "Epoch 3/30\n",
      "391/391 [==============================] - 2s 4ms/step - loss: 0.0786 - accuracy: 0.9766 - val_loss: 0.1051 - val_accuracy: 0.9683\n",
      "Epoch 4/30\n",
      "391/391 [==============================] - 2s 4ms/step - loss: 0.0569 - accuracy: 0.9827 - val_loss: 0.0779 - val_accuracy: 0.9748\n",
      "Epoch 5/30\n",
      "391/391 [==============================] - 2s 4ms/step - loss: 0.0423 - accuracy: 0.9870 - val_loss: 0.0697 - val_accuracy: 0.9798\n",
      "Epoch 6/30\n",
      "391/391 [==============================] - 2s 4ms/step - loss: 0.0321 - accuracy: 0.9906 - val_loss: 0.0724 - val_accuracy: 0.9781\n",
      "Epoch 7/30\n",
      "391/391 [==============================] - 2s 4ms/step - loss: 0.0235 - accuracy: 0.9931 - val_loss: 0.0666 - val_accuracy: 0.9808\n",
      "Epoch 8/30\n",
      "391/391 [==============================] - 2s 5ms/step - loss: 0.0183 - accuracy: 0.9947 - val_loss: 0.0707 - val_accuracy: 0.9791\n",
      "Epoch 9/30\n",
      "391/391 [==============================] - 2s 5ms/step - loss: 0.0139 - accuracy: 0.9961 - val_loss: 0.0668 - val_accuracy: 0.9805\n",
      "Epoch 10/30\n",
      "391/391 [==============================] - 2s 4ms/step - loss: 0.0100 - accuracy: 0.9978 - val_loss: 0.0713 - val_accuracy: 0.9808\n",
      "Epoch 11/30\n",
      "391/391 [==============================] - 2s 5ms/step - loss: 0.0068 - accuracy: 0.9988 - val_loss: 0.0777 - val_accuracy: 0.9793\n",
      "Epoch 12/30\n",
      "391/391 [==============================] - 2s 5ms/step - loss: 0.0051 - accuracy: 0.9990 - val_loss: 0.0698 - val_accuracy: 0.9820\n",
      "Epoch 13/30\n",
      "391/391 [==============================] - 2s 5ms/step - loss: 0.0034 - accuracy: 0.9994 - val_loss: 0.0676 - val_accuracy: 0.9829\n",
      "Epoch 14/30\n",
      "391/391 [==============================] - 2s 5ms/step - loss: 0.0022 - accuracy: 0.9998 - val_loss: 0.0757 - val_accuracy: 0.9814\n",
      "Epoch 15/30\n",
      "391/391 [==============================] - 2s 5ms/step - loss: 0.0015 - accuracy: 0.9998 - val_loss: 0.0725 - val_accuracy: 0.9825\n",
      "Epoch 16/30\n",
      "391/391 [==============================] - 2s 5ms/step - loss: 9.3460e-04 - accuracy: 1.0000 - val_loss: 0.0758 - val_accuracy: 0.9828\n",
      "Epoch 17/30\n",
      "391/391 [==============================] - 2s 5ms/step - loss: 7.2527e-04 - accuracy: 1.0000 - val_loss: 0.0738 - val_accuracy: 0.9831\n",
      "Epoch 18/30\n",
      "391/391 [==============================] - 2s 5ms/step - loss: 5.4297e-04 - accuracy: 1.0000 - val_loss: 0.0746 - val_accuracy: 0.9827\n",
      "Epoch 19/30\n",
      "391/391 [==============================] - 2s 5ms/step - loss: 4.3789e-04 - accuracy: 1.0000 - val_loss: 0.0755 - val_accuracy: 0.9828\n",
      "Epoch 20/30\n",
      "391/391 [==============================] - 2s 5ms/step - loss: 3.7971e-04 - accuracy: 1.0000 - val_loss: 0.0751 - val_accuracy: 0.9835\n",
      "Epoch 21/30\n",
      "391/391 [==============================] - 2s 4ms/step - loss: 3.3717e-04 - accuracy: 1.0000 - val_loss: 0.0760 - val_accuracy: 0.9834\n",
      "Epoch 22/30\n",
      "391/391 [==============================] - 2s 4ms/step - loss: 3.0241e-04 - accuracy: 1.0000 - val_loss: 0.0767 - val_accuracy: 0.9838\n",
      "Epoch 23/30\n",
      "391/391 [==============================] - 2s 5ms/step - loss: 2.7580e-04 - accuracy: 1.0000 - val_loss: 0.0771 - val_accuracy: 0.9834\n",
      "Epoch 24/30\n",
      "391/391 [==============================] - 2s 5ms/step - loss: 2.5234e-04 - accuracy: 1.0000 - val_loss: 0.0776 - val_accuracy: 0.9840\n",
      "Epoch 25/30\n",
      "391/391 [==============================] - 2s 5ms/step - loss: 2.3385e-04 - accuracy: 1.0000 - val_loss: 0.0776 - val_accuracy: 0.9837\n",
      "Epoch 26/30\n",
      "391/391 [==============================] - 2s 5ms/step - loss: 2.1734e-04 - accuracy: 1.0000 - val_loss: 0.0792 - val_accuracy: 0.9837\n",
      "Epoch 27/30\n",
      "391/391 [==============================] - 2s 5ms/step - loss: 2.0557e-04 - accuracy: 1.0000 - val_loss: 0.0791 - val_accuracy: 0.9832\n",
      "Epoch 28/30\n",
      "391/391 [==============================] - 2s 5ms/step - loss: 1.9103e-04 - accuracy: 1.0000 - val_loss: 0.0793 - val_accuracy: 0.9836\n",
      "Epoch 29/30\n",
      "391/391 [==============================] - 2s 5ms/step - loss: 1.8008e-04 - accuracy: 1.0000 - val_loss: 0.0794 - val_accuracy: 0.9837\n",
      "Epoch 30/30\n",
      "391/391 [==============================] - 2s 5ms/step - loss: 1.7093e-04 - accuracy: 1.0000 - val_loss: 0.0800 - val_accuracy: 0.9838\n"
     ]
    },
    {
     "data": {
      "text/plain": [
       "dict_keys(['loss', 'accuracy', 'val_loss', 'val_accuracy'])"
      ]
     },
     "execution_count": 23,
     "metadata": {},
     "output_type": "execute_result"
    }
   ],
   "source": [
    "history = model.fit(partial_x_train,\n",
    "                    partial_y_train,\n",
    "                    epochs=30,\n",
    "                    batch_size=128,\n",
    "                    validation_data=(x_val, y_val))\n",
    "\n",
    "history_dict = history.history\n",
    "history_dict.keys()"
   ]
  },
  {
   "cell_type": "code",
   "execution_count": 24,
   "metadata": {},
   "outputs": [
    {
     "data": {
      "text/plain": [
       "Text(0.5, 1.0, 'Training and validation loss')"
      ]
     },
     "execution_count": 24,
     "metadata": {},
     "output_type": "execute_result"
    },
    {
     "data": {
      "image/png": "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",
      "text/plain": [
       "<Figure size 900x500 with 1 Axes>"
      ]
     },
     "metadata": {},
     "output_type": "display_data"
    }
   ],
   "source": [
    "# plot the training and validation loss\n",
    "import matplotlib.pyplot as plt\n",
    "plt.figure(figsize=(9, 5))\n",
    "loss_values = history_dict[\"loss\"]\n",
    "val_loss_values = history_dict[\"val_loss\"]\n",
    "epochs = range(1, len(loss_values) + 1)\n",
    "plt.plot(epochs, loss_values, \"bo\", label=\"Training loss\")\n",
    "plt.plot(epochs, val_loss_values, \"ro\", label=\"Validation loss\")\n",
    "plt.xlabel(\"Epochs\")\n",
    "plt.xticks(epochs)\n",
    "plt.ylabel(\"Loss\")\n",
    "plt.legend()\n",
    "plt.title(\"Training and validation loss\")"
   ]
  },
  {
   "cell_type": "code",
   "execution_count": 25,
   "metadata": {},
   "outputs": [
    {
     "data": {
      "text/plain": [
       "Text(0.5, 1.0, 'Training and validation accuracy')"
      ]
     },
     "execution_count": 25,
     "metadata": {},
     "output_type": "execute_result"
    },
    {
     "data": {
      "image/png": "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",
      "text/plain": [
       "<Figure size 900x500 with 1 Axes>"
      ]
     },
     "metadata": {},
     "output_type": "display_data"
    }
   ],
   "source": [
    "# plot the training and validation accuracy\n",
    "import matplotlib.pyplot as plt\n",
    "plt.figure(figsize=(9, 5))\n",
    "loss_values = history_dict[\"accuracy\"]\n",
    "val_loss_values = history_dict[\"val_accuracy\"]\n",
    "epochs = range(1, len(loss_values) + 1)\n",
    "plt.plot(epochs, loss_values, \"bo\", label=\"Training accuracy\")\n",
    "plt.plot(epochs, val_loss_values, \"ro\", label=\"Validation accuracy\")\n",
    "plt.xlabel(\"Epochs\")\n",
    "plt.xticks(epochs)\n",
    "plt.ylabel(\"Accuracy\")\n",
    "plt.legend()\n",
    "plt.title(\"Training and validation accuracy\")"
   ]
  },
  {
   "attachments": {},
   "cell_type": "markdown",
   "metadata": {},
   "source": [
    "## Saving the Model for Future Use\n",
    " This allows using the model for future inference, serving or re-training.\n",
    "\n",
    "The recommended formats is `pb` (the default), since it allows loading the model by both Keras and Native Tensorflow. The `h5` format on the other hand can be loaded only with the Keras model (which is fine, if that's how it is used. Moreover, a model can always be loaded in an `h5` format, and then saved in the `pb` format).\n",
    "\n",
    "A second choice one has to make is whether they you'd like to save the optimizer. The default saves it, and adding a flag can allow its removal. The benefit of saving the optimizer is if one is interested to continue the training from the same state of the optimizer (for instance, starting with the saved momentum, if it's a momentum-based optimizer). Training can still be done on a model without a saved optimizer, but this will be a 'fresh start'. Removing the optimizer is useful once the current training is done. An example would be when one exports the model for deployment, that is that the model will run predictions."
   ]
  },
  {
   "cell_type": "code",
<<<<<<< HEAD
   "execution_count": 23,
=======
   "execution_count": 26,
>>>>>>> 4e6cf57d9929c2212afc7e5a5f1dc60bda7b518b
   "metadata": {},
   "outputs": [
    {
     "name": "stderr",
     "output_type": "stream",
     "text": [
      "WARNING:absl:Found untraced functions such as _update_step_xla while saving (showing 1 of 1). These functions will not be directly callable after loading.\n"
     ]
    },
    {
     "name": "stdout",
     "output_type": "stream",
     "text": [
      "INFO:tensorflow:Assets written to: ../models/mnist_model/keras_pb/assets\n"
     ]
    },
    {
     "name": "stderr",
     "output_type": "stream",
     "text": [
      "INFO:tensorflow:Assets written to: ../models/mnist_model/keras_pb/assets\n"
     ]
    }
   ],
   "source": [
    "# Saving with Keras, default `.pb` format\n",
    "tf.keras.models.save_model(model, '../models/mnist_model/keras_pb/')"
   ]
  },
  {
   "cell_type": "code",
   "execution_count": 27,
   "metadata": {},
   "outputs": [
    {
     "name": "stdout",
     "output_type": "stream",
     "text": [
      "INFO:tensorflow:Assets written to: ../models/mnist_model/keras_pb_no_optimizer/assets\n"
     ]
    },
    {
     "name": "stderr",
     "output_type": "stream",
     "text": [
      "INFO:tensorflow:Assets written to: ../models/mnist_model/keras_pb_no_optimizer/assets\n"
     ]
    }
   ],
   "source": [
    "# Saving with Keras, default `.pb` format, and without the optimizer\n",
    "tf.keras.models.save_model(model, '../models/mnist_model/keras_pb_no_optimizer/', include_optimizer=False)"
   ]
  },
  {
   "cell_type": "code",
   "execution_count": 28,
   "metadata": {},
   "outputs": [],
   "source": [
    "# Saving with Keras an h5\n",
    "tf.keras.models.save_model(model, '../models/mnist_model/keras_h5/model.h5', save_format='h5')"
   ]
  },
  {
   "cell_type": "code",
   "execution_count": 29,
   "metadata": {},
   "outputs": [
    {
     "name": "stderr",
     "output_type": "stream",
     "text": [
      "WARNING:absl:Found untraced functions such as _update_step_xla while saving (showing 1 of 1). These functions will not be directly callable after loading.\n"
     ]
    },
    {
     "name": "stdout",
     "output_type": "stream",
     "text": [
      "INFO:tensorflow:Assets written to: ../models/mnist_model/tf/assets\n"
     ]
    },
    {
     "name": "stderr",
     "output_type": "stream",
     "text": [
      "INFO:tensorflow:Assets written to: ../models/mnist_model/tf/assets\n"
     ]
    }
   ],
   "source": [
    "# Saving with Tensorflow\n",
    "tf.saved_model.save(model, '../models/mnist_model/tf/')"
   ]
  },
  {
   "cell_type": "code",
   "execution_count": null,
   "metadata": {},
   "outputs": [],
   "source": []
  }
 ],
 "metadata": {
  "kernelspec": {
   "display_name": "tensorflow_cpu",
   "language": "python",
   "name": "python3"
  },
  "language_info": {
   "codemirror_mode": {
    "name": "ipython",
    "version": 3
   },
   "file_extension": ".py",
   "mimetype": "text/x-python",
   "name": "python",
   "nbconvert_exporter": "python",
   "pygments_lexer": "ipython3",
   "version": "3.11.7"
  },
  "orig_nbformat": 4
 },
 "nbformat": 4,
 "nbformat_minor": 2
}
