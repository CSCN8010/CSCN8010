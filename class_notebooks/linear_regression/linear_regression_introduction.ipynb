{
 "cells": [
  {
   "attachments": {},
   "cell_type": "markdown",
   "metadata": {},
   "source": [
    "This is an introduction to linear regression (using Python)."
   ]
  },
  {
   "attachments": {},
   "cell_type": "markdown",
   "metadata": {},
   "source": [
    "**Linear Regression** is a fundamental algorithm in machine learning that predicts a target variable by fitting the best linear relationship between the dependent and independent variable (or variables)."
   ]
  },
  {
   "cell_type": "markdown",
   "metadata": {},
   "source": [
    "**Residual** The best fit line is calculated by minimizing the residual. The residual is the distance between the actual y and the predicted y."
   ]
  },
  {
   "attachments": {},
   "cell_type": "markdown",
   "metadata": {},
   "source": [
    "**The equation** of the linear regression model is: \n",
    "\n",
    "$Y = mX + c$\n",
    "\n",
    "- $Y$ is the dependent variable (output/outcome/prediction/estimation)\n",
    "- $X$ is the independent variable (input/cause)\n",
    "- $m$ is the slope of the regression line (rate of change of $Y$ as $X$ increases)\n",
    "- $c$ is the y-intercept of the regression line (value of $Y$ when $X$ is $0$)"
   ]
  },
  {
   "cell_type": "markdown",
   "metadata": {},
   "source": [
    "**Implementation** - We'll use the `sklearn.linear_model.LinearRegression` class from the `scikit-learn` library to perform linear regression."
   ]
  },
  {
   "attachments": {},
   "cell_type": "markdown",
   "metadata": {},
   "source": [
    "## Example: 1 feature vector (without noise)\n",
    "Here is a basic example:\n",
    "\n",
    "In this script we:\n",
    "1. Import the required libraries\n",
    "2. Create a simple dataset. \n",
    "3. Split our dataset into training and test sets, 80% of the data will be used for training the model and 20% of the data will be used for testing.\n",
    "4. Train our algorithm using the training data and the linear regression model from the sklearn library. \n",
    "5. Use our trained algorithm to predict the output of our test data. \n",
    "6. Check the accuracy of our algorithm by calculating the mean squared error.\n",
    "7. Plot the best fit line (model prediction) against the test data to visualize our prediction."
   ]
  },
  {
   "cell_type": "code",
   "execution_count": 2,
   "metadata": {},
   "outputs": [],
   "source": [
    "# Import necessary libraries\n",
    "import numpy as np\n",
    "from sklearn.model_selection import train_test_split \n",
    "from sklearn.linear_model import LinearRegression\n",
    "from sklearn import metrics\n",
    "import matplotlib.pyplot as plt  "
   ]
  },
  {
   "cell_type": "code",
   "execution_count": 2,
   "metadata": {},
   "outputs": [],
   "source": [
    "# Let's create some simple dataset\n",
    "X = np.array([1, 2, 3, 4, 5, 6, 7, 8, 9, 10]).reshape((-1, 1))\n",
    "y = np.array([2, 4, 6, 8, 10, 12, 14, 16, 18, 20])"
   ]
  },
  {
   "cell_type": "code",
   "execution_count": 3,
   "metadata": {},
   "outputs": [],
   "source": [
    "# Split the data into training and testing sets\n",
    "X_train, X_test, y_train, y_test = train_test_split(X, y, test_size=0.2, random_state=0)"
   ]
  },
  {
   "cell_type": "code",
   "execution_count": 4,
   "metadata": {},
   "outputs": [
    {
     "data": {
      "text/html": [
       "<style>#sk-container-id-1 {color: black;background-color: white;}#sk-container-id-1 pre{padding: 0;}#sk-container-id-1 div.sk-toggleable {background-color: white;}#sk-container-id-1 label.sk-toggleable__label {cursor: pointer;display: block;width: 100%;margin-bottom: 0;padding: 0.3em;box-sizing: border-box;text-align: center;}#sk-container-id-1 label.sk-toggleable__label-arrow:before {content: \"▸\";float: left;margin-right: 0.25em;color: #696969;}#sk-container-id-1 label.sk-toggleable__label-arrow:hover:before {color: black;}#sk-container-id-1 div.sk-estimator:hover label.sk-toggleable__label-arrow:before {color: black;}#sk-container-id-1 div.sk-toggleable__content {max-height: 0;max-width: 0;overflow: hidden;text-align: left;background-color: #f0f8ff;}#sk-container-id-1 div.sk-toggleable__content pre {margin: 0.2em;color: black;border-radius: 0.25em;background-color: #f0f8ff;}#sk-container-id-1 input.sk-toggleable__control:checked~div.sk-toggleable__content {max-height: 200px;max-width: 100%;overflow: auto;}#sk-container-id-1 input.sk-toggleable__control:checked~label.sk-toggleable__label-arrow:before {content: \"▾\";}#sk-container-id-1 div.sk-estimator input.sk-toggleable__control:checked~label.sk-toggleable__label {background-color: #d4ebff;}#sk-container-id-1 div.sk-label input.sk-toggleable__control:checked~label.sk-toggleable__label {background-color: #d4ebff;}#sk-container-id-1 input.sk-hidden--visually {border: 0;clip: rect(1px 1px 1px 1px);clip: rect(1px, 1px, 1px, 1px);height: 1px;margin: -1px;overflow: hidden;padding: 0;position: absolute;width: 1px;}#sk-container-id-1 div.sk-estimator {font-family: monospace;background-color: #f0f8ff;border: 1px dotted black;border-radius: 0.25em;box-sizing: border-box;margin-bottom: 0.5em;}#sk-container-id-1 div.sk-estimator:hover {background-color: #d4ebff;}#sk-container-id-1 div.sk-parallel-item::after {content: \"\";width: 100%;border-bottom: 1px solid gray;flex-grow: 1;}#sk-container-id-1 div.sk-label:hover label.sk-toggleable__label {background-color: #d4ebff;}#sk-container-id-1 div.sk-serial::before {content: \"\";position: absolute;border-left: 1px solid gray;box-sizing: border-box;top: 0;bottom: 0;left: 50%;z-index: 0;}#sk-container-id-1 div.sk-serial {display: flex;flex-direction: column;align-items: center;background-color: white;padding-right: 0.2em;padding-left: 0.2em;position: relative;}#sk-container-id-1 div.sk-item {position: relative;z-index: 1;}#sk-container-id-1 div.sk-parallel {display: flex;align-items: stretch;justify-content: center;background-color: white;position: relative;}#sk-container-id-1 div.sk-item::before, #sk-container-id-1 div.sk-parallel-item::before {content: \"\";position: absolute;border-left: 1px solid gray;box-sizing: border-box;top: 0;bottom: 0;left: 50%;z-index: -1;}#sk-container-id-1 div.sk-parallel-item {display: flex;flex-direction: column;z-index: 1;position: relative;background-color: white;}#sk-container-id-1 div.sk-parallel-item:first-child::after {align-self: flex-end;width: 50%;}#sk-container-id-1 div.sk-parallel-item:last-child::after {align-self: flex-start;width: 50%;}#sk-container-id-1 div.sk-parallel-item:only-child::after {width: 0;}#sk-container-id-1 div.sk-dashed-wrapped {border: 1px dashed gray;margin: 0 0.4em 0.5em 0.4em;box-sizing: border-box;padding-bottom: 0.4em;background-color: white;}#sk-container-id-1 div.sk-label label {font-family: monospace;font-weight: bold;display: inline-block;line-height: 1.2em;}#sk-container-id-1 div.sk-label-container {text-align: center;}#sk-container-id-1 div.sk-container {/* jupyter's `normalize.less` sets `[hidden] { display: none; }` but bootstrap.min.css set `[hidden] { display: none !important; }` so we also need the `!important` here to be able to override the default hidden behavior on the sphinx rendered scikit-learn.org. See: https://github.com/scikit-learn/scikit-learn/issues/21755 */display: inline-block !important;position: relative;}#sk-container-id-1 div.sk-text-repr-fallback {display: none;}</style><div id=\"sk-container-id-1\" class=\"sk-top-container\"><div class=\"sk-text-repr-fallback\"><pre>LinearRegression()</pre><b>In a Jupyter environment, please rerun this cell to show the HTML representation or trust the notebook. <br />On GitHub, the HTML representation is unable to render, please try loading this page with nbviewer.org.</b></div><div class=\"sk-container\" hidden><div class=\"sk-item\"><div class=\"sk-estimator sk-toggleable\"><input class=\"sk-toggleable__control sk-hidden--visually\" id=\"sk-estimator-id-1\" type=\"checkbox\" checked><label for=\"sk-estimator-id-1\" class=\"sk-toggleable__label sk-toggleable__label-arrow\">LinearRegression</label><div class=\"sk-toggleable__content\"><pre>LinearRegression()</pre></div></div></div></div></div>"
      ],
      "text/plain": [
       "LinearRegression()"
      ]
     },
     "execution_count": 4,
     "metadata": {},
     "output_type": "execute_result"
    }
   ],
   "source": [
    "# Train the model\n",
    "model = LinearRegression()  \n",
    "model.fit(X_train, y_train)"
   ]
  },
  {
   "cell_type": "code",
   "execution_count": 5,
   "metadata": {},
   "outputs": [],
   "source": [
    "# Make predictions using the testing set\n",
    "y_pred = model.predict(X_test)"
   ]
  },
  {
   "cell_type": "code",
   "execution_count": 6,
   "metadata": {},
   "outputs": [
    {
     "name": "stdout",
     "output_type": "stream",
     "text": [
      "Coefficients: \n",
      " [2.]\n"
     ]
    }
   ],
   "source": [
    "# The coefficients\n",
    "print('Coefficients: \\n', model.coef_)"
   ]
  },
  {
   "cell_type": "code",
   "execution_count": 7,
   "metadata": {},
   "outputs": [
    {
     "name": "stdout",
     "output_type": "stream",
     "text": [
      "Mean squared error: 0.00\n"
     ]
    }
   ],
   "source": [
    "# The mean squared error\n",
    "print('Mean squared error: %.2f' % metrics.mean_squared_error(y_test, y_pred))"
   ]
  },
  {
   "cell_type": "code",
   "execution_count": 8,
   "metadata": {},
   "outputs": [
    {
     "data": {
      "image/png": "[encoded data removed]",
      "text/plain": [
       "<Figure size 640x480 with 1 Axes>"
      ]
     },
     "metadata": {},
     "output_type": "display_data"
    }
   ],
   "source": [
    "# Plot outputs\n",
    "plt.scatter(X_test, y_test,  color='red')\n",
    "plt.plot(X_test, y_pred, color='blue', linewidth=3)\n",
    "\n",
    "plt.show()"
   ]
  },
  {
   "attachments": {},
   "cell_type": "markdown",
   "metadata": {},
   "source": [
    "## Example: 1 feature vector with added noise"
   ]
  },
  {
   "cell_type": "code",
   "execution_count": 9,
   "metadata": {},
   "outputs": [],
   "source": [
    "import sklearn as sk"
   ]
  },
  {
   "cell_type": "code",
   "execution_count": 10,
   "metadata": {},
   "outputs": [],
   "source": [
    "# set a random seed for sklearn\n",
    "# this is to make the results reproducible\n",
    "# for the purpose of this tutorial\n",
    "# sklearn uses numpy's random number generator, source: https://stackoverflow.com/a/31058798/10006823\n",
    "import numpy as np\n",
    "np.random.seed(0)\n"
   ]
  },
  {
   "cell_type": "code",
   "execution_count": 11,
   "metadata": {},
   "outputs": [],
   "source": [
    "# create random data for a linear regression problem using numpy random number generator with some noise:\n",
    "# fix the seed\n",
    "np.random.seed(0)\n",
    "# parameters for data generation\n",
    "# feature 1: x values parameters:\n",
    "number_of_data_instances = 50\n",
    "min_x = 1000\n",
    "max_x = 3000\n",
    "# target: y values parameters:\n",
    "slope = 200\n",
    "intercept = 100000\n",
    "noise_standard_deviation = 30000\n",
    "\n",
    "#generate the feature values (x values):\n",
    "X = np.random.rand(number_of_data_instances, 1) * (max_x - min_x) + min_x\n",
    "# generate the target values (y values) with Gaussian noise:\n",
    "y = slope * X + intercept + noise_standard_deviation*np.random.randn(number_of_data_instances,1)"
   ]
  },
  {
   "cell_type": "code",
   "execution_count": 12,
   "metadata": {},
   "outputs": [],
   "source": [
    "xlabel=\"Feature 1: House Size (square feet)\"\n",
    "ylabel=\"Target: House Price (dollars)\""
   ]
  },
  {
   "cell_type": "code",
   "execution_count": 13,
   "metadata": {},
   "outputs": [
    {
     "data": {
      "image/png": "[encoded data removed]",
      "text/plain": [
       "<Figure size 640x480 with 1 Axes>"
      ]
     },
     "metadata": {},
     "output_type": "display_data"
    }
   ],
   "source": [
    "# plot the data\n",
    "import matplotlib.pyplot as plt\n",
    "plt.scatter(X, y)\n",
    "plt.xlabel(xlabel)\n",
    "plt.ylabel(ylabel)\n",
    "plt.title(f\"Train Data:  {number_of_data_instances} data points, generated around a line with some noise\")\n",
    "plt.show()"
   ]
  },
  {
   "cell_type": "code",
   "execution_count": 14,
   "metadata": {},
   "outputs": [
    {
     "data": {
      "text/html": [
       "<style>#sk-container-id-2 {color: black;background-color: white;}#sk-container-id-2 pre{padding: 0;}#sk-container-id-2 div.sk-toggleable {background-color: white;}#sk-container-id-2 label.sk-toggleable__label {cursor: pointer;display: block;width: 100%;margin-bottom: 0;padding: 0.3em;box-sizing: border-box;text-align: center;}#sk-container-id-2 label.sk-toggleable__label-arrow:before {content: \"▸\";float: left;margin-right: 0.25em;color: #696969;}#sk-container-id-2 label.sk-toggleable__label-arrow:hover:before {color: black;}#sk-container-id-2 div.sk-estimator:hover label.sk-toggleable__label-arrow:before {color: black;}#sk-container-id-2 div.sk-toggleable__content {max-height: 0;max-width: 0;overflow: hidden;text-align: left;background-color: #f0f8ff;}#sk-container-id-2 div.sk-toggleable__content pre {margin: 0.2em;color: black;border-radius: 0.25em;background-color: #f0f8ff;}#sk-container-id-2 input.sk-toggleable__control:checked~div.sk-toggleable__content {max-height: 200px;max-width: 100%;overflow: auto;}#sk-container-id-2 input.sk-toggleable__control:checked~label.sk-toggleable__label-arrow:before {content: \"▾\";}#sk-container-id-2 div.sk-estimator input.sk-toggleable__control:checked~label.sk-toggleable__label {background-color: #d4ebff;}#sk-container-id-2 div.sk-label input.sk-toggleable__control:checked~label.sk-toggleable__label {background-color: #d4ebff;}#sk-container-id-2 input.sk-hidden--visually {border: 0;clip: rect(1px 1px 1px 1px);clip: rect(1px, 1px, 1px, 1px);height: 1px;margin: -1px;overflow: hidden;padding: 0;position: absolute;width: 1px;}#sk-container-id-2 div.sk-estimator {font-family: monospace;background-color: #f0f8ff;border: 1px dotted black;border-radius: 0.25em;box-sizing: border-box;margin-bottom: 0.5em;}#sk-container-id-2 div.sk-estimator:hover {background-color: #d4ebff;}#sk-container-id-2 div.sk-parallel-item::after {content: \"\";width: 100%;border-bottom: 1px solid gray;flex-grow: 1;}#sk-container-id-2 div.sk-label:hover label.sk-toggleable__label {background-color: #d4ebff;}#sk-container-id-2 div.sk-serial::before {content: \"\";position: absolute;border-left: 1px solid gray;box-sizing: border-box;top: 0;bottom: 0;left: 50%;z-index: 0;}#sk-container-id-2 div.sk-serial {display: flex;flex-direction: column;align-items: center;background-color: white;padding-right: 0.2em;padding-left: 0.2em;position: relative;}#sk-container-id-2 div.sk-item {position: relative;z-index: 1;}#sk-container-id-2 div.sk-parallel {display: flex;align-items: stretch;justify-content: center;background-color: white;position: relative;}#sk-container-id-2 div.sk-item::before, #sk-container-id-2 div.sk-parallel-item::before {content: \"\";position: absolute;border-left: 1px solid gray;box-sizing: border-box;top: 0;bottom: 0;left: 50%;z-index: -1;}#sk-container-id-2 div.sk-parallel-item {display: flex;flex-direction: column;z-index: 1;position: relative;background-color: white;}#sk-container-id-2 div.sk-parallel-item:first-child::after {align-self: flex-end;width: 50%;}#sk-container-id-2 div.sk-parallel-item:last-child::after {align-self: flex-start;width: 50%;}#sk-container-id-2 div.sk-parallel-item:only-child::after {width: 0;}#sk-container-id-2 div.sk-dashed-wrapped {border: 1px dashed gray;margin: 0 0.4em 0.5em 0.4em;box-sizing: border-box;padding-bottom: 0.4em;background-color: white;}#sk-container-id-2 div.sk-label label {font-family: monospace;font-weight: bold;display: inline-block;line-height: 1.2em;}#sk-container-id-2 div.sk-label-container {text-align: center;}#sk-container-id-2 div.sk-container {/* jupyter's `normalize.less` sets `[hidden] { display: none; }` but bootstrap.min.css set `[hidden] { display: none !important; }` so we also need the `!important` here to be able to override the default hidden behavior on the sphinx rendered scikit-learn.org. See: https://github.com/scikit-learn/scikit-learn/issues/21755 */display: inline-block !important;position: relative;}#sk-container-id-2 div.sk-text-repr-fallback {display: none;}</style><div id=\"sk-container-id-2\" class=\"sk-top-container\"><div class=\"sk-text-repr-fallback\"><pre>LinearRegression()</pre><b>In a Jupyter environment, please rerun this cell to show the HTML representation or trust the notebook. <br />On GitHub, the HTML representation is unable to render, please try loading this page with nbviewer.org.</b></div><div class=\"sk-container\" hidden><div class=\"sk-item\"><div class=\"sk-estimator sk-toggleable\"><input class=\"sk-toggleable__control sk-hidden--visually\" id=\"sk-estimator-id-2\" type=\"checkbox\" checked><label for=\"sk-estimator-id-2\" class=\"sk-toggleable__label sk-toggleable__label-arrow\">LinearRegression</label><div class=\"sk-toggleable__content\"><pre>LinearRegression()</pre></div></div></div></div></div>"
      ],
      "text/plain": [
       "LinearRegression()"
      ]
     },
     "execution_count": 14,
     "metadata": {},
     "output_type": "execute_result"
    }
   ],
   "source": [
    "# run a linear regression\n",
    "from sklearn.linear_model import LinearRegression\n",
    "model = LinearRegression()\n",
    "model.fit(X, y)"
   ]
  },
  {
   "cell_type": "code",
   "execution_count": 15,
   "metadata": {},
   "outputs": [
    {
     "data": {
      "image/png": "[encoded data removed]",
      "text/plain": [
       "<Figure size 640x480 with 1 Axes>"
      ]
     },
     "metadata": {},
     "output_type": "display_data"
    }
   ],
   "source": [
    "# plot the line\n",
    "x = np.linspace(min_x, max_x, 2)\n",
    "m = model.coef_[0]\n",
    "b = model.intercept_\n",
    "plt.plot(x, m*x + b, c='r')\n",
    "# plot the data\n",
    "plt.scatter(X, y)\n",
    "# add x and y labels, and a title\n",
    "plt.xlabel(xlabel)\n",
    "plt.ylabel(ylabel)\n",
    "plt.title(\"Training: Linear Regression \")\n",
    "plt.show()"
   ]
  },
  {
   "cell_type": "code",
   "execution_count": 16,
   "metadata": {},
   "outputs": [
    {
     "data": {
      "image/png": "[encoded data removed]",
      "text/plain": [
       "<Figure size 640x480 with 1 Axes>"
      ]
     },
     "metadata": {},
     "output_type": "display_data"
    }
   ],
   "source": [
    "# plot the line\n",
    "x = np.linspace(min_x, max_x, 2)\n",
    "m = model.coef_[0]\n",
    "b = model.intercept_\n",
    "plt.plot(x, m*x + b, c='r')\n",
    "# plot the data\n",
    "plt.scatter(X, y)\n",
    "# add x and y labels, and a title\n",
    "plt.xlabel(xlabel)\n",
    "plt.ylabel(ylabel)\n",
    "plt.title(\"Prediction: predicted target value for a new data point\")\n",
    "# add a new data point\n",
    "plt.scatter(1500, m*1500 + b, c='g')\n",
    "# add an arrow annotation indicating the new data point\n",
    "plt.annotate('new data point', xy=(1500, m*1500 + b), xytext=(1200, m*1500 + b + 100000), color='green', arrowprops=dict(facecolor='green'))\n",
    "plt.show()"
   ]
  },
  {
   "attachments": {},
   "cell_type": "markdown",
   "metadata": {},
   "source": [
    "## Example: 2 feature vectors with added noise \n",
    "Here's a simple example of linear regression in Python using `sklearn.linear_model.LinearRegression`, this time with two feature vectors. We'll generate some synthetic data for the purposes of this demonstration:\n",
    "\n",
    "In this example, we generate a 100x2 matrix `X` for our features, and a vector `y` for our targets. The true relationship is `y = 1.5*x1 + 2.5*x2 + noise`, where `x1` and `x2` are the two features, and `noise` is some Gaussian noise to make the problem a bit more realistic. We then fit a linear regression model to this data and print the estimated coefficients. If everything went well, the coefficients should be close to 1.5 and 2.5, and the intercept close to 0."
   ]
  },
  {
   "cell_type": "code",
   "execution_count": 4,
   "metadata": {},
   "outputs": [
    {
     "name": "stdout",
     "output_type": "stream",
     "text": [
      "Coefficients: [1.07370044 2.52957506]\n",
      "Intercept: 0.11450325561777852\n"
     ]
    }
   ],
   "source": [
    "import numpy as np\n",
    "from sklearn.linear_model import LinearRegression\n",
    "\n",
    "# Generate synthetic data\n",
    "np.random.seed(0)  # Set seed for reproducibility\n",
    "X = np.random.rand(100, 2)  # 100 samples, 2 features\n",
    "y = 1.5 * X[:, 0] + 2.5 * X[:, 1] + np.random.randn(100)  # True relation: y = 1.5*x1 + 2.5*x2 + noise\n",
    "\n",
    "# Fit the model\n",
    "model = LinearRegression()\n",
    "model.fit(X, y)\n",
    "\n",
    "# Print the coefficients\n",
    "print(f\"Coefficients: {model.coef_}\")\n",
    "print(f\"Intercept: {model.intercept_}\")"
   ]
  },
  {
   "attachments": {},
   "cell_type": "markdown",
   "metadata": {},
   "source": [
    "The code to plot the data points and the regression plane (since we are dealing with two features, the fit will be a plane in 3D space, not a line) is more complex than for one feature. Here is a simple code using `matplotlib` to visualize the original data points and the fitted plane.\n",
    "\n",
    "This code creates a 3D scatter plot of the original data points and a surface plot for the fitted linear regression model. The true data points are in blue, and the fitted surface is in red."
   ]
  },
  {
   "cell_type": "code",
   "execution_count": 5,
   "metadata": {},
   "outputs": [
    {
     "data": {
      "image/png": "[encoded data removed]",
      "text/plain": [
       "<Figure size 1000x700 with 1 Axes>"
      ]
     },
     "metadata": {},
     "output_type": "display_data"
    }
   ],
   "source": [
    "import matplotlib.pyplot as plt\n",
    "from mpl_toolkits.mplot3d import Axes3D\n",
    "\n",
    "# Create a coordinate grid\n",
    "x1 = np.linspace(X[:,0].min(), X[:,0].max(), num=10)\n",
    "x2 = np.linspace(X[:,1].min(), X[:,1].max(), num=10)\n",
    "x1, x2 = np.meshgrid(x1, x2)\n",
    "\n",
    "# Compute corresponding y values\n",
    "y_pred = model.intercept_ + model.coef_[0] * x1 + model.coef_[1] * x2\n",
    "\n",
    "# Create 3D plot\n",
    "fig = plt.figure(figsize=(10, 7))\n",
    "ax = fig.add_subplot(111, projection='3d')\n",
    "ax.scatter(X[:, 0], X[:, 1], y, c='blue', marker='o', alpha=0.5)\n",
    "ax.plot_surface(x1, x2, y_pred, color='red', alpha=0.2)\n",
    "ax.set_xlabel('Feature 1')\n",
    "ax.set_ylabel('Feature 2')\n",
    "ax.set_zlabel('Target')\n",
    "plt.show()"
   ]
  },
  {
   "cell_type": "code",
   "execution_count": 7,
   "metadata": {},
   "outputs": [
    {
     "data": {
      "application/vnd.plotly.v1+json": {
       "config": {
        "plotlyServerURL": "https://plot.ly"
       },
       "data": [
        {
         "hovertemplate": "Feature 1=%{x}<br>Feature 2=%{y}<br>Target=%{z}<extra></extra>",
         "legendgroup": "",
         "marker": {
          "color": "#636efa",
          "symbol": "circle"
         },
         "mode": "markers",
         "name": "",
         "scene": "scene",
         "showlegend": false,
         "type": "scatter3d",
         "x": [
          0.5488135039273248,
          0.6027633760716439,
          0.4236547993389047,
          0.4375872112626925,
          0.9636627605010293,
          0.7917250380826646,
          0.5680445610939323,
          0.07103605819788694,
          0.02021839744032572,
          0.7781567509498505,
          0.978618342232764,
          0.46147936225293185,
          0.11827442586893322,
          0.1433532874090464,
          0.5218483217500717,
          0.26455561210462697,
          0.45615033221654855,
          0.018789800436355142,
          0.6120957227224214,
          0.9437480785146242,
          0.359507900573786,
          0.6976311959272649,
          0.6667667154456677,
          0.2103825610738409,
          0.31542835092418386,
          0.5701967704178796,
          0.9883738380592262,
          0.2088767560948347,
          0.6531083254653984,
          0.4663107728563063,
          0.15896958364551972,
          0.6563295894652734,
          0.1965823616800535,
          0.8209932298479351,
          0.8379449074988039,
          0.9764594650133958,
          0.9767610881903371,
          0.7392635793983017,
          0.2828069625764096,
          0.29614019752214493,
          0.317983179393976,
          0.06414749634878436,
          0.5666014542065752,
          0.5232480534666997,
          0.5759464955561793,
          0.31856895245132366,
          0.13179786240439217,
          0.2894060929472011,
          0.5865129348100832,
          0.8289400292173631,
          0.6778165367962301,
          0.7351940221225949,
          0.24875314351995803,
          0.592041931271839,
          0.2230816326406183,
          0.44712537861762736,
          0.6994792753175043,
          0.8137978197024772,
          0.8811031971111616,
          0.8817353618548528,
          0.7252542798196405,
          0.9560836347232239,
          0.4238550485581797,
          0.019193198309333526,
          0.660173537492685,
          0.6180154289988415,
          0.13547406422245023,
          0.5699649107012649,
          0.5743252488495788,
          0.6521032700016889,
          0.896546595851063,
          0.4358649252656268,
          0.8061939890460857,
          0.10022688731230112,
          0.7142412995491114,
          0.14944830465799375,
          0.16249293467637482,
          0.12381998284944151,
          0.8073189587250107,
          0.40718329722599966,
          0.6974287731445636,
          0.7220555994703479,
          0.9755215050028858,
          0.011714084185001972,
          0.729990562424058,
          0.5210366062041293,
          0.19999652489640007,
          0.7936977033574206,
          0.3453516806969027,
          0.7044144019235328,
          0.16469415649791275,
          0.5772285886041676,
          0.9342139979247938,
          0.5356328030249583,
          0.7301220295167696,
          0.3982210622160919,
          0.18619300588033616,
          0.7395507950492876,
          0.22741462797332324,
          0.05802916032387562
         ],
         "y": [
          0.7151893663724195,
          0.5448831829968969,
          0.6458941130666561,
          0.8917730007820798,
          0.3834415188257777,
          0.5288949197529045,
          0.925596638292661,
          0.08712929970154071,
          0.832619845547938,
          0.8700121482468192,
          0.7991585642167236,
          0.7805291762864555,
          0.6399210213275238,
          0.9446689170495839,
          0.4146619399905236,
          0.7742336894342167,
          0.5684339488686485,
          0.6176354970758771,
          0.6169339968747569,
          0.6818202991034834,
          0.43703195379934145,
          0.06022547162926983,
          0.6706378696181594,
          0.1289262976548533,
          0.3637107709426226,
          0.43860151346232035,
          0.10204481074802807,
          0.16130951788499626,
          0.2532916025397821,
          0.24442559200160274,
          0.11037514116430513,
          0.1381829513486138,
          0.3687251706609641,
          0.09710127579306127,
          0.09609840789396307,
          0.4686512016477016,
          0.604845519745046,
          0.039187792254320675,
          0.1201965612131689,
          0.11872771895424405,
          0.41426299451466997,
          0.6924721193700198,
          0.2653894909394454,
          0.09394051075844168,
          0.9292961975762141,
          0.6674103799636817,
          0.7163272041185655,
          0.18319136200711683,
          0.020107546187493552,
          0.004695476192547066,
          0.27000797319216485,
          0.9621885451174382,
          0.5761573344178369,
          0.5722519057908734,
          0.952749011516985,
          0.8464086724711278,
          0.29743695085513366,
          0.39650574084698464,
          0.5812728726358587,
          0.6925315900777659,
          0.5013243819267023,
          0.6439901992296374,
          0.6063932141279244,
          0.30157481667454933,
          0.29007760721044407,
          0.42876870094576613,
          0.29828232595603077,
          0.5908727612481732,
          0.6532008198571336,
          0.43141843543397396,
          0.36756187004789653,
          0.8919233550156721,
          0.7038885835403663,
          0.9194826137446735,
          0.9988470065678665,
          0.8681260573682142,
          0.6155595642838442,
          0.8480082293222344,
          0.5691007386145933,
          0.06916699545513805,
          0.45354268267806885,
          0.8663823259286292,
          0.855803342392611,
          0.3599780644783639,
          0.17162967726144052,
          0.05433798833925363,
          0.01852179446061397,
          0.22392468806038013,
          0.9280812934655909,
          0.03183892953130785,
          0.6214784014997635,
          0.23789282137450862,
          0.613965955965896,
          0.589909976354571,
          0.31194499547960186,
          0.20984374897512215,
          0.9443723899839336,
          0.4904588086175671,
          0.25435648177039294,
          0.4344166255581208
         ],
         "z": [
          3.737829593928543,
          1.1864215132362845,
          1.102748829263895,
          2.447993274104804,
          1.9060654871236833,
          4.4393569103232435,
          4.115479244298312,
          0.41192857793587306,
          0.8864416912001658,
          4.1866284734433705,
          2.46560857650139,
          1.098770887317925,
          2.9652439844745113,
          2.893644835662379,
          2.7402861563822354,
          2.651145294685503,
          2.962140982399135,
          0.9212478500440785,
          1.4262357344860597,
          3.8017673838122716,
          0.8284320711851916,
          0.5074606952138713,
          2.2212122436965567,
          0.6553687447729513,
          1.0284255424893483,
          0.5768476458646015,
          1.094054381126019,
          -1.506814223369684,
          2.2381229455747405,
          -0.29152751631828133,
          -0.5899911110494082,
          1.382116841830419,
          0.47712347278117706,
          3.017257629661292,
          0.20430647125966495,
          2.9033680709885306,
          2.937972613420625,
          0.038771351992056946,
          1.2479785074292904,
          0.5694832624465795,
          2.2844228065913064,
          2.6509056969119578,
          3.6766118579391662,
          2.3562513065325454,
          2.8179783993323606,
          1.9070002010102631,
          3.088174399790115,
          1.5473512751611915,
          1.5701697937814507,
          -0.36180731000342203,
          1.6674186137758216,
          2.770231486771799,
          2.0934476503677675,
          2.220542271741984,
          3.626673885845982,
          3.1039279642955626,
          2.579139252223067,
          1.7455419849352345,
          1.830390721338139,
          2.6438823247741454,
          2.324171960684776,
          3.4232526857140115,
          4.4110745588479325,
          0.740469687489731,
          0.7595093237723607,
          1.6529631201632913,
          0.4853209365776581,
          2.8136107429457926,
          0.9536929084725776,
          2.1199629877878,
          2.4202311068617117,
          3.115786811637896,
          2.3716963734546814,
          2.211125135594129,
          2.144418556760802,
          1.901167717045332,
          1.2397768367074549,
          2.721800593841174,
          1.4775478528020862,
          1.564890536186838,
          3.674484410903386,
          1.1790541890135624,
          4.029049344263957,
          1.594424322503658,
          0.8866230112374593,
          0.5201280658255304,
          0.21341869590917942,
          1.4525673957853529,
          2.529217785662209,
          -0.5397848796164078,
          2.9530688032793977,
          2.540193528379344,
          2.1228716275977275,
          0.8117998176213508,
          2.3961104094269174,
          0.5461529959488771,
          2.782173647101118,
          2.016144796972754,
          1.6685518974561537,
          1.8678344480371214
         ]
        },
        {
         "colorscale": [
          [
           0,
           "rgb(255,245,240)"
          ],
          [
           0.125,
           "rgb(254,224,210)"
          ],
          [
           0.25,
           "rgb(252,187,161)"
          ],
          [
           0.375,
           "rgb(252,146,114)"
          ],
          [
           0.5,
           "rgb(251,106,74)"
          ],
          [
           0.625,
           "rgb(239,59,44)"
          ],
          [
           0.75,
           "rgb(203,24,29)"
          ],
          [
           0.875,
           "rgb(165,15,21)"
          ],
          [
           1,
           "rgb(103,0,13)"
          ]
         ],
         "opacity": 0.2,
         "showscale": false,
         "type": "surface",
         "x": [
          [
           0.011714084185001972,
           0.12023183461547132,
           0.22874958504594067,
           0.33726733547641,
           0.4457850859068794,
           0.5543028363373487,
           0.6628205867678181,
           0.7713383371982875,
           0.8798560876287568,
           0.9883738380592262
          ],
          [
           0.011714084185001972,
           0.12023183461547132,
           0.22874958504594067,
           0.33726733547641,
           0.4457850859068794,
           0.5543028363373487,
           0.6628205867678181,
           0.7713383371982875,
           0.8798560876287568,
           0.9883738380592262
          ],
          [
           0.011714084185001972,
           0.12023183461547132,
           0.22874958504594067,
           0.33726733547641,
           0.4457850859068794,
           0.5543028363373487,
           0.6628205867678181,
           0.7713383371982875,
           0.8798560876287568,
           0.9883738380592262
          ],
          [
           0.011714084185001972,
           0.12023183461547132,
           0.22874958504594067,
           0.33726733547641,
           0.4457850859068794,
           0.5543028363373487,
           0.6628205867678181,
           0.7713383371982875,
           0.8798560876287568,
           0.9883738380592262
          ],
          [
           0.011714084185001972,
           0.12023183461547132,
           0.22874958504594067,
           0.33726733547641,
           0.4457850859068794,
           0.5543028363373487,
           0.6628205867678181,
           0.7713383371982875,
           0.8798560876287568,
           0.9883738380592262
          ],
          [
           0.011714084185001972,
           0.12023183461547132,
           0.22874958504594067,
           0.33726733547641,
           0.4457850859068794,
           0.5543028363373487,
           0.6628205867678181,
           0.7713383371982875,
           0.8798560876287568,
           0.9883738380592262
          ],
          [
           0.011714084185001972,
           0.12023183461547132,
           0.22874958504594067,
           0.33726733547641,
           0.4457850859068794,
           0.5543028363373487,
           0.6628205867678181,
           0.7713383371982875,
           0.8798560876287568,
           0.9883738380592262
          ],
          [
           0.011714084185001972,
           0.12023183461547132,
           0.22874958504594067,
           0.33726733547641,
           0.4457850859068794,
           0.5543028363373487,
           0.6628205867678181,
           0.7713383371982875,
           0.8798560876287568,
           0.9883738380592262
          ],
          [
           0.011714084185001972,
           0.12023183461547132,
           0.22874958504594067,
           0.33726733547641,
           0.4457850859068794,
           0.5543028363373487,
           0.6628205867678181,
           0.7713383371982875,
           0.8798560876287568,
           0.9883738380592262
          ],
          [
           0.011714084185001972,
           0.12023183461547132,
           0.22874958504594067,
           0.33726733547641,
           0.4457850859068794,
           0.5543028363373487,
           0.6628205867678181,
           0.7713383371982875,
           0.8798560876287568,
           0.9883738380592262
          ]
         ],
         "y": [
          [
           0.004695476192547066,
           0.004695476192547066,
           0.004695476192547066,
           0.004695476192547066,
           0.004695476192547066,
           0.004695476192547066,
           0.004695476192547066,
           0.004695476192547066,
           0.004695476192547066,
           0.004695476192547066
          ],
          [
           0.11515675734536034,
           0.11515675734536034,
           0.11515675734536034,
           0.11515675734536034,
           0.11515675734536034,
           0.11515675734536034,
           0.11515675734536034,
           0.11515675734536034,
           0.11515675734536034,
           0.11515675734536034
          ],
          [
           0.2256180384981736,
           0.2256180384981736,
           0.2256180384981736,
           0.2256180384981736,
           0.2256180384981736,
           0.2256180384981736,
           0.2256180384981736,
           0.2256180384981736,
           0.2256180384981736,
           0.2256180384981736
          ],
          [
           0.33607931965098686,
           0.33607931965098686,
           0.33607931965098686,
           0.33607931965098686,
           0.33607931965098686,
           0.33607931965098686,
           0.33607931965098686,
           0.33607931965098686,
           0.33607931965098686,
           0.33607931965098686
          ],
          [
           0.44654060080380015,
           0.44654060080380015,
           0.44654060080380015,
           0.44654060080380015,
           0.44654060080380015,
           0.44654060080380015,
           0.44654060080380015,
           0.44654060080380015,
           0.44654060080380015,
           0.44654060080380015
          ],
          [
           0.5570018819566134,
           0.5570018819566134,
           0.5570018819566134,
           0.5570018819566134,
           0.5570018819566134,
           0.5570018819566134,
           0.5570018819566134,
           0.5570018819566134,
           0.5570018819566134,
           0.5570018819566134
          ],
          [
           0.6674631631094267,
           0.6674631631094267,
           0.6674631631094267,
           0.6674631631094267,
           0.6674631631094267,
           0.6674631631094267,
           0.6674631631094267,
           0.6674631631094267,
           0.6674631631094267,
           0.6674631631094267
          ],
          [
           0.77792444426224,
           0.77792444426224,
           0.77792444426224,
           0.77792444426224,
           0.77792444426224,
           0.77792444426224,
           0.77792444426224,
           0.77792444426224,
           0.77792444426224,
           0.77792444426224
          ],
          [
           0.8883857254150532,
           0.8883857254150532,
           0.8883857254150532,
           0.8883857254150532,
           0.8883857254150532,
           0.8883857254150532,
           0.8883857254150532,
           0.8883857254150532,
           0.8883857254150532,
           0.8883857254150532
          ],
          [
           0.9988470065678665,
           0.9988470065678665,
           0.9988470065678665,
           0.9988470065678665,
           0.9988470065678665,
           0.9988470065678665,
           0.9988470065678665,
           0.9988470065678665,
           0.9988470065678665,
           0.9988470065678665
          ]
         ],
         "z": [
          [
           0.13895823248246708,
           0.2554737892355181,
           0.37198934598856903,
           0.48850490274162006,
           0.605020459494671,
           0.721536016247722,
           0.838051573000773,
           0.9545671297538241,
           1.071082686506875,
           1.187598243259926
          ],
          [
           0.4183783346136386,
           0.5348938913666896,
           0.6514094481197406,
           0.7679250048727916,
           0.8844405616258425,
           1.0009561183788935,
           1.1174716751319447,
           1.2339872318849956,
           1.3505027886380465,
           1.4670183453910974
          ],
          [
           0.6977984367448101,
           0.8143139934978612,
           0.9308295502509121,
           1.047345107003963,
           1.163860663757014,
           1.280376220510065,
           1.3968917772631162,
           1.5134073340161671,
           1.629922890769218,
           1.746438447522269
          ],
          [
           0.9772185388759815,
           1.0937340956290325,
           1.2102496523820836,
           1.3267652091351345,
           1.4432807658881854,
           1.5597963226412364,
           1.6763118793942875,
           1.7928274361473386,
           1.9093429929003893,
           2.0258585496534405
          ],
          [
           1.256638641007153,
           1.373154197760204,
           1.4896697545132551,
           1.606185311266306,
           1.722700868019357,
           1.8392164247724079,
           1.955731981525459,
           2.07224753827851,
           2.188763095031561,
           2.305278651784612
          ],
          [
           1.5360587431383246,
           1.6525742998913755,
           1.7690898566444266,
           1.8856054133974776,
           2.0021209701505285,
           2.1186365269035794,
           2.2351520836566303,
           2.3516676404096817,
           2.468183197162732,
           2.5846987539157835
          ],
          [
           1.815478845269496,
           1.931994402022547,
           2.048509958775598,
           2.165025515528649,
           2.2815410722817,
           2.398056629034751,
           2.5145721857878023,
           2.631087742540853,
           2.747603299293904,
           2.864118856046955
          ],
          [
           2.094898947400668,
           2.2114145041537188,
           2.3279300609067697,
           2.4444456176598206,
           2.5609611744128715,
           2.6774767311659224,
           2.7939922879189734,
           2.9105078446720247,
           3.027023401425075,
           3.1435389581781266
          ],
          [
           2.374319049531839,
           2.49083460628489,
           2.6073501630379408,
           2.723865719790992,
           2.8403812765440426,
           2.956896833297094,
           3.073412390050145,
           3.189927946803196,
           3.3064435035562467,
           3.4229590603092976
          ],
          [
           2.6537391516630104,
           2.7702547084160614,
           2.8867702651691123,
           3.003285821922163,
           3.1198013786752146,
           3.2363169354282655,
           3.3528324921813164,
           3.4693480489343673,
           3.5858636056874182,
           3.7023791624404696
          ]
         ]
        }
       ],
       "layout": {
        "legend": {
         "tracegroupgap": 0
        },
        "margin": {
         "t": 60
        },
        "scene": {
         "domain": {
          "x": [
           0,
           1
          ],
          "y": [
           0,
           1
          ]
         },
         "xaxis": {
          "title": {
           "text": "Feature 1"
          }
         },
         "yaxis": {
          "title": {
           "text": "Feature 2"
          }
         },
         "zaxis": {
          "title": {
           "text": "Target"
          }
         }
        },
        "template": {
         "data": {
          "bar": [
           {
            "error_x": {
             "color": "#2a3f5f"
            },
            "error_y": {
             "color": "#2a3f5f"
            },
            "marker": {
             "line": {
              "color": "#E5ECF6",
              "width": 0.5
             },
             "pattern": {
              "fillmode": "overlay",
              "size": 10,
              "solidity": 0.2
             }
            },
            "type": "bar"
           }
          ],
          "barpolar": [
           {
            "marker": {
             "line": {
              "color": "#E5ECF6",
              "width": 0.5
             },
             "pattern": {
              "fillmode": "overlay",
              "size": 10,
              "solidity": 0.2
             }
            },
            "type": "barpolar"
           }
          ],
          "carpet": [
           {
            "aaxis": {
             "endlinecolor": "#2a3f5f",
             "gridcolor": "white",
             "linecolor": "white",
             "minorgridcolor": "white",
             "startlinecolor": "#2a3f5f"
            },
            "baxis": {
             "endlinecolor": "#2a3f5f",
             "gridcolor": "white",
             "linecolor": "white",
             "minorgridcolor": "white",
             "startlinecolor": "#2a3f5f"
            },
            "type": "carpet"
           }
          ],
          "choropleth": [
           {
            "colorbar": {
             "outlinewidth": 0,
             "ticks": ""
            },
            "type": "choropleth"
           }
          ],
          "contour": [
           {
            "colorbar": {
             "outlinewidth": 0,
             "ticks": ""
            },
            "colorscale": [
             [
              0,
              "#0d0887"
             ],
             [
              0.1111111111111111,
              "#46039f"
             ],
             [
              0.2222222222222222,
              "#7201a8"
             ],
             [
              0.3333333333333333,
              "#9c179e"
             ],
             [
              0.4444444444444444,
              "#bd3786"
             ],
             [
              0.5555555555555556,
              "#d8576b"
             ],
             [
              0.6666666666666666,
              "#ed7953"
             ],
             [
              0.7777777777777778,
              "#fb9f3a"
             ],
             [
              0.8888888888888888,
              "#fdca26"
             ],
             [
              1,
              "#f0f921"
             ]
            ],
            "type": "contour"
           }
          ],
          "contourcarpet": [
           {
            "colorbar": {
             "outlinewidth": 0,
             "ticks": ""
            },
            "type": "contourcarpet"
           }
          ],
          "heatmap": [
           {
            "colorbar": {
             "outlinewidth": 0,
             "ticks": ""
            },
            "colorscale": [
             [
              0,
              "#0d0887"
             ],
             [
              0.1111111111111111,
              "#46039f"
             ],
             [
              0.2222222222222222,
              "#7201a8"
             ],
             [
              0.3333333333333333,
              "#9c179e"
             ],
             [
              0.4444444444444444,
              "#bd3786"
             ],
             [
              0.5555555555555556,
              "#d8576b"
             ],
             [
              0.6666666666666666,
              "#ed7953"
             ],
             [
              0.7777777777777778,
              "#fb9f3a"
             ],
             [
              0.8888888888888888,
              "#fdca26"
             ],
             [
              1,
              "#f0f921"
             ]
            ],
            "type": "heatmap"
           }
          ],
          "heatmapgl": [
           {
            "colorbar": {
             "outlinewidth": 0,
             "ticks": ""
            },
            "colorscale": [
             [
              0,
              "#0d0887"
             ],
             [
              0.1111111111111111,
              "#46039f"
             ],
             [
              0.2222222222222222,
              "#7201a8"
             ],
             [
              0.3333333333333333,
              "#9c179e"
             ],
             [
              0.4444444444444444,
              "#bd3786"
             ],
             [
              0.5555555555555556,
              "#d8576b"
             ],
             [
              0.6666666666666666,
              "#ed7953"
             ],
             [
              0.7777777777777778,
              "#fb9f3a"
             ],
             [
              0.8888888888888888,
              "#fdca26"
             ],
             [
              1,
              "#f0f921"
             ]
            ],
            "type": "heatmapgl"
           }
          ],
          "histogram": [
           {
            "marker": {
             "pattern": {
              "fillmode": "overlay",
              "size": 10,
              "solidity": 0.2
             }
            },
            "type": "histogram"
           }
          ],
          "histogram2d": [
           {
            "colorbar": {
             "outlinewidth": 0,
             "ticks": ""
            },
            "colorscale": [
             [
              0,
              "#0d0887"
             ],
             [
              0.1111111111111111,
              "#46039f"
             ],
             [
              0.2222222222222222,
              "#7201a8"
             ],
             [
              0.3333333333333333,
              "#9c179e"
             ],
             [
              0.4444444444444444,
              "#bd3786"
             ],
             [
              0.5555555555555556,
              "#d8576b"
             ],
             [
              0.6666666666666666,
              "#ed7953"
             ],
             [
              0.7777777777777778,
              "#fb9f3a"
             ],
             [
              0.8888888888888888,
              "#fdca26"
             ],
             [
              1,
              "#f0f921"
             ]
            ],
            "type": "histogram2d"
           }
          ],
          "histogram2dcontour": [
           {
            "colorbar": {
             "outlinewidth": 0,
             "ticks": ""
            },
            "colorscale": [
             [
              0,
              "#0d0887"
             ],
             [
              0.1111111111111111,
              "#46039f"
             ],
             [
              0.2222222222222222,
              "#7201a8"
             ],
             [
              0.3333333333333333,
              "#9c179e"
             ],
             [
              0.4444444444444444,
              "#bd3786"
             ],
             [
              0.5555555555555556,
              "#d8576b"
             ],
             [
              0.6666666666666666,
              "#ed7953"
             ],
             [
              0.7777777777777778,
              "#fb9f3a"
             ],
             [
              0.8888888888888888,
              "#fdca26"
             ],
             [
              1,
              "#f0f921"
             ]
            ],
            "type": "histogram2dcontour"
           }
          ],
          "mesh3d": [
           {
            "colorbar": {
             "outlinewidth": 0,
             "ticks": ""
            },
            "type": "mesh3d"
           }
          ],
          "parcoords": [
           {
            "line": {
             "colorbar": {
              "outlinewidth": 0,
              "ticks": ""
             }
            },
            "type": "parcoords"
           }
          ],
          "pie": [
           {
            "automargin": true,
            "type": "pie"
           }
          ],
          "scatter": [
           {
            "fillpattern": {
             "fillmode": "overlay",
             "size": 10,
             "solidity": 0.2
            },
            "type": "scatter"
           }
          ],
          "scatter3d": [
           {
            "line": {
             "colorbar": {
              "outlinewidth": 0,
              "ticks": ""
             }
            },
            "marker": {
             "colorbar": {
              "outlinewidth": 0,
              "ticks": ""
             }
            },
            "type": "scatter3d"
           }
          ],
          "scattercarpet": [
           {
            "marker": {
             "colorbar": {
              "outlinewidth": 0,
              "ticks": ""
             }
            },
            "type": "scattercarpet"
           }
          ],
          "scattergeo": [
           {
            "marker": {
             "colorbar": {
              "outlinewidth": 0,
              "ticks": ""
             }
            },
            "type": "scattergeo"
           }
          ],
          "scattergl": [
           {
            "marker": {
             "colorbar": {
              "outlinewidth": 0,
              "ticks": ""
             }
            },
            "type": "scattergl"
           }
          ],
          "scattermapbox": [
           {
            "marker": {
             "colorbar": {
              "outlinewidth": 0,
              "ticks": ""
             }
            },
            "type": "scattermapbox"
           }
          ],
          "scatterpolar": [
           {
            "marker": {
             "colorbar": {
              "outlinewidth": 0,
              "ticks": ""
             }
            },
            "type": "scatterpolar"
           }
          ],
          "scatterpolargl": [
           {
            "marker": {
             "colorbar": {
              "outlinewidth": 0,
              "ticks": ""
             }
            },
            "type": "scatterpolargl"
           }
          ],
          "scatterternary": [
           {
            "marker": {
             "colorbar": {
              "outlinewidth": 0,
              "ticks": ""
             }
            },
            "type": "scatterternary"
           }
          ],
          "surface": [
           {
            "colorbar": {
             "outlinewidth": 0,
             "ticks": ""
            },
            "colorscale": [
             [
              0,
              "#0d0887"
             ],
             [
              0.1111111111111111,
              "#46039f"
             ],
             [
              0.2222222222222222,
              "#7201a8"
             ],
             [
              0.3333333333333333,
              "#9c179e"
             ],
             [
              0.4444444444444444,
              "#bd3786"
             ],
             [
              0.5555555555555556,
              "#d8576b"
             ],
             [
              0.6666666666666666,
              "#ed7953"
             ],
             [
              0.7777777777777778,
              "#fb9f3a"
             ],
             [
              0.8888888888888888,
              "#fdca26"
             ],
             [
              1,
              "#f0f921"
             ]
            ],
            "type": "surface"
           }
          ],
          "table": [
           {
            "cells": {
             "fill": {
              "color": "#EBF0F8"
             },
             "line": {
              "color": "white"
             }
            },
            "header": {
             "fill": {
              "color": "#C8D4E3"
             },
             "line": {
              "color": "white"
             }
            },
            "type": "table"
           }
          ]
         },
         "layout": {
          "annotationdefaults": {
           "arrowcolor": "#2a3f5f",
           "arrowhead": 0,
           "arrowwidth": 1
          },
          "autotypenumbers": "strict",
          "coloraxis": {
           "colorbar": {
            "outlinewidth": 0,
            "ticks": ""
           }
          },
          "colorscale": {
           "diverging": [
            [
             0,
             "#8e0152"
            ],
            [
             0.1,
             "#c51b7d"
            ],
            [
             0.2,
             "#de77ae"
            ],
            [
             0.3,
             "#f1b6da"
            ],
            [
             0.4,
             "#fde0ef"
            ],
            [
             0.5,
             "#f7f7f7"
            ],
            [
             0.6,
             "#e6f5d0"
            ],
            [
             0.7,
             "#b8e186"
            ],
            [
             0.8,
             "#7fbc41"
            ],
            [
             0.9,
             "#4d9221"
            ],
            [
             1,
             "#276419"
            ]
           ],
           "sequential": [
            [
             0,
             "#0d0887"
            ],
            [
             0.1111111111111111,
             "#46039f"
            ],
            [
             0.2222222222222222,
             "#7201a8"
            ],
            [
             0.3333333333333333,
             "#9c179e"
            ],
            [
             0.4444444444444444,
             "#bd3786"
            ],
            [
             0.5555555555555556,
             "#d8576b"
            ],
            [
             0.6666666666666666,
             "#ed7953"
            ],
            [
             0.7777777777777778,
             "#fb9f3a"
            ],
            [
             0.8888888888888888,
             "#fdca26"
            ],
            [
             1,
             "#f0f921"
            ]
           ],
           "sequentialminus": [
            [
             0,
             "#0d0887"
            ],
            [
             0.1111111111111111,
             "#46039f"
            ],
            [
             0.2222222222222222,
             "#7201a8"
            ],
            [
             0.3333333333333333,
             "#9c179e"
            ],
            [
             0.4444444444444444,
             "#bd3786"
            ],
            [
             0.5555555555555556,
             "#d8576b"
            ],
            [
             0.6666666666666666,
             "#ed7953"
            ],
            [
             0.7777777777777778,
             "#fb9f3a"
            ],
            [
             0.8888888888888888,
             "#fdca26"
            ],
            [
             1,
             "#f0f921"
            ]
           ]
          },
          "colorway": [
           "#636efa",
           "#EF553B",
           "#00cc96",
           "#ab63fa",
           "#FFA15A",
           "#19d3f3",
           "#FF6692",
           "#B6E880",
           "#FF97FF",
           "#FECB52"
          ],
          "font": {
           "color": "#2a3f5f"
          },
          "geo": {
           "bgcolor": "white",
           "lakecolor": "white",
           "landcolor": "#E5ECF6",
           "showlakes": true,
           "showland": true,
           "subunitcolor": "white"
          },
          "hoverlabel": {
           "align": "left"
          },
          "hovermode": "closest",
          "mapbox": {
           "style": "light"
          },
          "paper_bgcolor": "white",
          "plot_bgcolor": "#E5ECF6",
          "polar": {
           "angularaxis": {
            "gridcolor": "white",
            "linecolor": "white",
            "ticks": ""
           },
           "bgcolor": "#E5ECF6",
           "radialaxis": {
            "gridcolor": "white",
            "linecolor": "white",
            "ticks": ""
           }
          },
          "scene": {
           "xaxis": {
            "backgroundcolor": "#E5ECF6",
            "gridcolor": "white",
            "gridwidth": 2,
            "linecolor": "white",
            "showbackground": true,
            "ticks": "",
            "zerolinecolor": "white"
           },
           "yaxis": {
            "backgroundcolor": "#E5ECF6",
            "gridcolor": "white",
            "gridwidth": 2,
            "linecolor": "white",
            "showbackground": true,
            "ticks": "",
            "zerolinecolor": "white"
           },
           "zaxis": {
            "backgroundcolor": "#E5ECF6",
            "gridcolor": "white",
            "gridwidth": 2,
            "linecolor": "white",
            "showbackground": true,
            "ticks": "",
            "zerolinecolor": "white"
           }
          },
          "shapedefaults": {
           "line": {
            "color": "#2a3f5f"
           }
          },
          "ternary": {
           "aaxis": {
            "gridcolor": "white",
            "linecolor": "white",
            "ticks": ""
           },
           "baxis": {
            "gridcolor": "white",
            "linecolor": "white",
            "ticks": ""
           },
           "bgcolor": "#E5ECF6",
           "caxis": {
            "gridcolor": "white",
            "linecolor": "white",
            "ticks": ""
           }
          },
          "title": {
           "x": 0.05
          },
          "xaxis": {
           "automargin": true,
           "gridcolor": "white",
           "linecolor": "white",
           "ticks": "",
           "title": {
            "standoff": 15
           },
           "zerolinecolor": "white",
           "zerolinewidth": 2
          },
          "yaxis": {
           "automargin": true,
           "gridcolor": "white",
           "linecolor": "white",
           "ticks": "",
           "title": {
            "standoff": 15
           },
           "zerolinecolor": "white",
           "zerolinewidth": 2
          }
         }
        }
       }
      }
     },
     "metadata": {},
     "output_type": "display_data"
    }
   ],
   "source": [
    "import plotly.express as px\n",
    "import plotly.graph_objects as go\n",
    "\n",
    "fig = px.scatter_3d(\n",
    "    x=X[:, 0],\n",
    "    y=X[:, 1],\n",
    "    z=y,\n",
    "    labels={'x': 'Feature 1', 'y': 'Feature 2', 'z': 'Target'}\n",
    ")\n",
    "\n",
    "\n",
    "# Create a surface plot\n",
    "surface = go.Surface(x=x1, y=x2, z=y_pred, colorscale='Reds', opacity=0.2, showscale=False)\n",
    "\n",
    "fig.add_trace(surface)\n",
    "\n",
    "fig.show()"
   ]
  },
  {
   "cell_type": "code",
   "execution_count": null,
   "metadata": {},
   "outputs": [],
   "source": []
  }
 ],
 "metadata": {
  "kernelspec": {
   "display_name": "ml-tutorials-py311",
   "language": "python",
   "name": "python3"
  },
  "language_info": {
   "codemirror_mode": {
    "name": "ipython",
    "version": 3
   },
   "file_extension": ".py",
   "mimetype": "text/x-python",
   "name": "python",
   "nbconvert_exporter": "python",
   "pygments_lexer": "ipython3",
   "version": "3.11.3"
  },
  "orig_nbformat": 4
 },
 "nbformat": 4,
 "nbformat_minor": 2
}
