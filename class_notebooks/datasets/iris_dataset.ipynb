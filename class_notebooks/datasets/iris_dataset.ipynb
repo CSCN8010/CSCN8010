{
 "cells": [
  {
   "cell_type": "markdown",
   "metadata": {},
   "source": [
    "# The Iris Dataset"
   ]
  },
  {
   "cell_type": "markdown",
   "metadata": {},
   "source": [
    "The dataset even got its own [Wikipedia page](https://en.wikipedia.org/wiki/Iris_flower_data_set). The data was compiled in 1936 by the British statistician and biologist Ronald Fisher. It contains 150 samples of iris flowers, each with four features: the length and the width of the sepals and petals. The flowers belong to three species: Iris setosa, Iris versicolor, and Iris virginica.\n"
   ]
  },
  {
   "cell_type": "markdown",
   "metadata": {},
   "source": [
    "<table>\n",
    "  <tr>\n",
    "    <td>Setosa</td>\n",
    "    <td>Versicolor</td>\n",
    "    <td>Verginica</td>\n",
    "   </tr> \n",
    "   <tr>\n",
    "      <td><img src=\"../../images/iris_dataset/Irissetosa1.jpg\" alt=\"Iris Setosa\" width=\"300\"/></td>\n",
    "      <td><img src=\"../../images/iris_dataset/iris_versicolor.jpg\" alt=\"Iris Versicolor\" width=\"300\"/></td>\n",
    "      <td><img src=\"../../images/iris_dataset/Iris_virginica.jpg\" alt=\"Iris Virginica\" width=\"300\"/></td>\n",
    "  </tr>\n",
    "</table>"
   ]
  },
  {
   "cell_type": "markdown",
   "metadata": {},
   "source": [
    "In Iris, the sepals (sometimes called “falls”) provide a landing pad for bumblebees. \n",
    "The petals (sometimes called “standards”) are upright and colorful."
   ]
  },
  {
   "cell_type": "markdown",
   "metadata": {},
   "source": [
    "<img src=\"../../images/iris_dataset/Petal-sepal.jpg\" alt=\"Petal Sepal\" width=\"500\"/>"
   ]
  },
  {
   "cell_type": "markdown",
   "metadata": {},
   "source": [
    "The original dataset, taken from the paper by Fisher, looks like this:\n",
    "\n",
    "<img src=\"../../images/iris_dataset/Fischer_1936_iris_dataset.png\" alt=\"Original Dataset\" width=\"500\"/>"
   ]
  },
  {
   "cell_type": "markdown",
   "metadata": {},
   "source": [
    "Scatter plot of the Iris dataset from Wikipedia:\n",
    "\n",
    "<img src=\"../../images/iris_dataset/Iris_dataset_scatterplot_wikipedia.svg\" alt=\"Original Dataset\" width=\"700\"/>!"
   ]
  },
  {
   "cell_type": "markdown",
   "metadata": {},
   "source": []
  }
 ],
 "metadata": {
  "kernelspec": {
   "display_name": "CSCN8010_classic_ml",
   "language": "python",
   "name": "python3"
  },
  "language_info": {
   "name": "python",
   "version": "3.11.3"
  }
 },
 "nbformat": 4,
 "nbformat_minor": 2
}
