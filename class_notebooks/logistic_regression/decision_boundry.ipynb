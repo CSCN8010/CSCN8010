{
 "cells": [
  {
   "cell_type": "markdown",
   "metadata": {},
   "source": [
    "# Decision Boundary in Logistic Regression\n",
    "\n",
    "In logistic regression, the decision boundary is the hyperplane where the classification is switched from one class to another. For a binary classification and a decision _threshold_ of 0.5, the decision boundary is the set of points where the probability of each of the two classes is 0.5.\n",
    "\n",
    "The decision boundary is a point when there is one feature, a line when there are two features, a plane for three features, and a hyperplane in the n-features."
   ]
  },
  {
   "cell_type": "markdown",
   "metadata": {},
   "source": [
    "### The equation of the decision boundary for any number of features\n",
    "\n",
    "The equation of the decision boundary is given by:\n",
    "\n",
    "$w_0 + w_1 x_1 + w_2 x_2 + \\ldots + w_n x_n = 0$\n",
    "\n",
    "where $w_i$ are the parameters of the logistic regression model and $x_i$ are the features. \n",
    "\n",
    "#### Proof (Optional)\n",
    "\n",
    "To see why this is the equation of the decision boundary, let's consider the logistic regression model:\n",
    "\n",
    "$P(x) = \\sigma(w_0 + w_1 x_1 + w_2 x_2 + \\ldots + w_n x_n)$\n",
    "\n",
    "where $\\sigma$ is the [logistic function](https://en.wikipedia.org/wiki/Logistic_function). The decision boundary is the set of points where the probability of each of the two classes is 0.5. So, the decision boundary is the set of points where:\n",
    "\n",
    "$\\sigma(w_0 + w_1 x_1 + w_2 x_2 + \\ldots + w_n x_n) = 0.5$\n",
    "\n",
    "The logistic function is 0.5 when its argument is 0 (see [the plot of logistic regression](https://en.wikipedia.org/wiki/Logistic_function)). So, the decision boundary is the set of points where:\n",
    "\n",
    "$w_0 + w_1 x_1 + w_2 x_2 + \\ldots + w_n x_n = 0$"
   ]
  },
  {
   "cell_type": "markdown",
   "metadata": {},
   "source": [
    "### Decision boundary for one feature\n",
    "\n",
    "For one feature, the equation of the decision boundary is:\n",
    "\n",
    "$w_0 + w_1 x_1 = 0$\n",
    "\n",
    "So the decision boundary is a point with the value:\n",
    "\n",
    "$x_1 = -\\frac{w_0}{w_1}$\n",
    "\n",
    "Code-wise, the decision boundary is:\n",
    "\n",
    "```python\n",
    "decision_boundary = -model.intercept_ / model.coef_\n",
    "```\n",
    "\n",
    "As can be seen, the decision boundary is a point."
   ]
  },
  {
   "cell_type": "markdown",
   "metadata": {},
   "source": [
    "### Decision boundary for two features\n",
    "\n",
    "For two features, the equation of the decision boundary is:\n",
    "\n",
    "$w_0 + w_1 x_1 + w_2 x_2 = 0$\n",
    "\n",
    "So the decision boundary is a line with the equation:\n",
    "\n",
    "$x_2 = -\\frac{w_0}{w_2} - \\frac{w_1}{w_2} x_1$\n",
    "\n",
    "Code-wise, the decision boundary is:\n",
    "\n",
    "```python\n",
    "decision_boundary_x1 = np.linspace(MIN_FEATURE_VALUE, MAX_FEATURE_VALUE, 10)\n",
    "decision_boundary_x2 = -model.intercept_ / model.coef_[0][1] - model.coef_[0][0] / model.coef_[0][1] * x1\n",
    "plt.plot(decision_boundary_x1, decision_boundary_x2)\n",
    "```\n",
    "\n",
    "This is an equation of a line: for every value of $x_1$, there is one corresponding value of $x_2$."
   ]
  },
  {
   "cell_type": "markdown",
   "metadata": {},
   "source": [
    "### Decision boundary for three features\n",
    "\n",
    "For three features, the equation of the decision boundary is:\n",
    "\n",
    "$w_0 + w_1 x_1 + w_2 x_2 + w_3 x_3 = 0$\n",
    "\n",
    "So the decision boundary is a plane with the equation:\n",
    "\n",
    "$x_3 = -\\frac{w_0}{w_3} - \\frac{w_1}{w_3} x_1 - \\frac{w_2}{w_3} x_2$\n",
    "\n",
    "Code-wise, the decision boundary is:\n",
    "\n",
    "```python\n",
    "x1, x2 = np.meshgrid(np.linspace(MIN_FEATURE_VALUE, MAX_FEATURE_VALUE, 10), np.linspace(MIN_FEATURE_VALUE, MAX_FEATURE_VALUE, 10))\n",
    "decision_boundary_x3 = -model.intercept_ / model.coef_[0][2] - model.coef_[0][0] / model.coef_[0][2] * x1 - model.coef_[0][1] / model.coef_[0][2] * x2\n",
    "ax.plot_surface(x1, x2, decision_boundary_x3)\n",
    "```\n",
    "\n",
    "This is an equation of a plane: for every pair of values of $x_1$ and $x_2$, there is one corresponding value of $x_3$."
   ]
  },
  {
   "cell_type": "markdown",
   "metadata": {},
   "source": [
    "## Implementation\n",
    "\n",
    "`sklearn` provides a help function to plot a decision boundary of an estimator (i.e. a classifier): [DecisionBoundaryDisplay](https://scikit-learn.org/stable/modules/generated/sklearn.inspection.DecisionBoundaryDisplay.html#sklearn.inspection.DecisionBoundaryDisplay)"
   ]
  }
 ],
 "metadata": {
  "kernelspec": {
   "display_name": "CSCN8010_classic_ml",
   "language": "python",
   "name": "python3"
  },
  "language_info": {
   "codemirror_mode": {
    "name": "ipython",
    "version": 3
   },
   "file_extension": ".py",
   "mimetype": "text/x-python",
   "name": "python",
   "nbconvert_exporter": "python",
   "pygments_lexer": "ipython3",
   "version": "3.11.3"
  }
 },
 "nbformat": 4,
 "nbformat_minor": 2
}
